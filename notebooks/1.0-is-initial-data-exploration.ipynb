{
 "cells": [
  {
   "cell_type": "code",
   "execution_count": 27,
   "metadata": {},
   "outputs": [],
   "source": [
    "import pandas as pd\n",
    "import numpy as np\n",
    "import matplotlib.pyplot as plt\n",
    "\n",
    "from src.settings import EXTERNAL_DATA_DIR, RAW_DATA_DIR, PROCESSED_DATA_DIR"
   ]
  },
  {
   "cell_type": "markdown",
   "metadata": {},
   "source": [
    "## Load Dataset"
   ]
  },
  {
   "cell_type": "code",
   "execution_count": 28,
   "metadata": {
    "scrolled": true
   },
   "outputs": [
    {
     "data": {
      "text/html": [
       "<div>\n",
       "<style scoped>\n",
       "    .dataframe tbody tr th:only-of-type {\n",
       "        vertical-align: middle;\n",
       "    }\n",
       "\n",
       "    .dataframe tbody tr th {\n",
       "        vertical-align: top;\n",
       "    }\n",
       "\n",
       "    .dataframe thead th {\n",
       "        text-align: right;\n",
       "    }\n",
       "</style>\n",
       "<table border=\"1\" class=\"dataframe\">\n",
       "  <thead>\n",
       "    <tr style=\"text-align: right;\">\n",
       "      <th></th>\n",
       "      <th>description</th>\n",
       "      <th>category</th>\n",
       "      <th>amount</th>\n",
       "      <th>time</th>\n",
       "      <th>title</th>\n",
       "      <th>details</th>\n",
       "      <th>id</th>\n",
       "      <th>_links</th>\n",
       "      <th>href</th>\n",
       "    </tr>\n",
       "  </thead>\n",
       "  <tbody>\n",
       "    <tr>\n",
       "      <th>0</th>\n",
       "      <td>Pet Love*Order10947430</td>\n",
       "      <td>transaction</td>\n",
       "      <td>19990</td>\n",
       "      <td>2018-06-02T12:43:27Z</td>\n",
       "      <td>casa</td>\n",
       "      <td>{'charges': {'count': 3, 'amount': 6663}, 'sub...</td>\n",
       "      <td>5b1290ef-27dc-4d61-bf99-d2853e09933c</td>\n",
       "      <td>{'self': {'href': 'https://prod-s0-feed.nubank...</td>\n",
       "      <td>nuapp://transaction/5b1290ef-27dc-4d61-bf99-d2...</td>\n",
       "    </tr>\n",
       "    <tr>\n",
       "      <th>1</th>\n",
       "      <td>Amazon.Com.Br</td>\n",
       "      <td>transaction</td>\n",
       "      <td>100</td>\n",
       "      <td>2018-05-31T23:01:36Z</td>\n",
       "      <td>educação</td>\n",
       "      <td>{'subcategory': 'card_not_present'}</td>\n",
       "      <td>5b107ed0-1afa-4efe-afd4-cf8ef75c0abd</td>\n",
       "      <td>{'self': {'href': 'https://prod-s0-feed.nubank...</td>\n",
       "      <td>nuapp://transaction/5b107ed0-1afa-4efe-afd4-cf...</td>\n",
       "    </tr>\n",
       "    <tr>\n",
       "      <th>2</th>\n",
       "      <td>Tembici</td>\n",
       "      <td>transaction</td>\n",
       "      <td>2000</td>\n",
       "      <td>2018-05-24T11:35:37Z</td>\n",
       "      <td>serviços</td>\n",
       "      <td>{'subcategory': 'card_not_present'}</td>\n",
       "      <td>5b06a38a-be23-421b-a01e-eab063d290f9</td>\n",
       "      <td>{'self': {'href': 'https://prod-s0-feed.nubank...</td>\n",
       "      <td>nuapp://transaction/5b06a38a-be23-421b-a01e-ea...</td>\n",
       "    </tr>\n",
       "    <tr>\n",
       "      <th>3</th>\n",
       "      <td>Ebanx-Spotify</td>\n",
       "      <td>transaction</td>\n",
       "      <td>1690</td>\n",
       "      <td>2018-05-15T14:27:42Z</td>\n",
       "      <td>outros</td>\n",
       "      <td>{'lat': -23.5807334, 'lon': -46.684984, 'subca...</td>\n",
       "      <td>5afaee5f-4068-40f7-a7e7-6df587c66ec6</td>\n",
       "      <td>{'self': {'href': 'https://prod-s0-feed.nubank...</td>\n",
       "      <td>nuapp://transaction/5afaee5f-4068-40f7-a7e7-6d...</td>\n",
       "    </tr>\n",
       "    <tr>\n",
       "      <th>4</th>\n",
       "      <td>Outback Bz 51 Frei Can</td>\n",
       "      <td>transaction</td>\n",
       "      <td>8937</td>\n",
       "      <td>2018-05-06T22:54:56Z</td>\n",
       "      <td>restaurante</td>\n",
       "      <td>{'lat': -23.5544201, 'lon': -46.6522945, 'subc...</td>\n",
       "      <td>5aef87c0-1cad-4c94-a0e5-bc2c13123e8e</td>\n",
       "      <td>{'self': {'href': 'https://prod-s0-feed.nubank...</td>\n",
       "      <td>nuapp://transaction/5aef87c0-1cad-4c94-a0e5-bc...</td>\n",
       "    </tr>\n",
       "    <tr>\n",
       "      <th>5</th>\n",
       "      <td>Monte Rei Delivery</td>\n",
       "      <td>transaction</td>\n",
       "      <td>805</td>\n",
       "      <td>2018-05-06T16:01:17Z</td>\n",
       "      <td>restaurante</td>\n",
       "      <td>{'lat': -23.6172183, 'lon': -46.6341538, 'subc...</td>\n",
       "      <td>5aef26ce-d9fd-4f54-a680-75d62e9f451b</td>\n",
       "      <td>{'self': {'href': 'https://prod-s0-feed.nubank...</td>\n",
       "      <td>nuapp://transaction/5aef26ce-d9fd-4f54-a680-75...</td>\n",
       "    </tr>\n",
       "    <tr>\n",
       "      <th>6</th>\n",
       "      <td>Dia Loja</td>\n",
       "      <td>transaction</td>\n",
       "      <td>1074</td>\n",
       "      <td>2018-05-06T15:50:40Z</td>\n",
       "      <td>supermercado</td>\n",
       "      <td>{'lat': -23.6172484, 'lon': -46.6341649, 'subc...</td>\n",
       "      <td>5aef2451-0003-4263-8026-b3a9276f898f</td>\n",
       "      <td>{'self': {'href': 'https://prod-s0-feed.nubank...</td>\n",
       "      <td>nuapp://transaction/5aef2451-0003-4263-8026-b3...</td>\n",
       "    </tr>\n",
       "    <tr>\n",
       "      <th>7</th>\n",
       "      <td>Tennessee Saude</td>\n",
       "      <td>transaction</td>\n",
       "      <td>4425</td>\n",
       "      <td>2018-05-06T15:38:36Z</td>\n",
       "      <td>supermercado</td>\n",
       "      <td>{'lat': -23.6174069, 'lon': -46.6343829, 'subc...</td>\n",
       "      <td>5aef217c-fdf0-494a-b05b-f906ad812e47</td>\n",
       "      <td>{'self': {'href': 'https://prod-s0-feed.nubank...</td>\n",
       "      <td>nuapp://transaction/5aef217c-fdf0-494a-b05b-f9...</td>\n",
       "    </tr>\n",
       "    <tr>\n",
       "      <th>8</th>\n",
       "      <td>Almeida'S Bar</td>\n",
       "      <td>transaction</td>\n",
       "      <td>2700</td>\n",
       "      <td>2018-05-06T00:50:27Z</td>\n",
       "      <td>restaurante</td>\n",
       "      <td>{'lat': -23.6174186, 'lon': -46.6342297, 'subc...</td>\n",
       "      <td>5aee5154-9f6a-4138-8a55-8f6adeb3f53f</td>\n",
       "      <td>{'self': {'href': 'https://prod-s0-feed.nubank...</td>\n",
       "      <td>nuapp://transaction/5aee5154-9f6a-4138-8a55-8f...</td>\n",
       "    </tr>\n",
       "    <tr>\n",
       "      <th>9</th>\n",
       "      <td>Pag*Tabuleirolua</td>\n",
       "      <td>transaction</td>\n",
       "      <td>1600</td>\n",
       "      <td>2018-05-05T23:23:11Z</td>\n",
       "      <td>restaurante</td>\n",
       "      <td>{'lat': -23.5339943, 'lon': -46.6533928, 'subc...</td>\n",
       "      <td>5aee3ce0-cefe-4d11-b035-c3ba65f9d788</td>\n",
       "      <td>{'self': {'href': 'https://prod-s0-feed.nubank...</td>\n",
       "      <td>nuapp://transaction/5aee3ce0-cefe-4d11-b035-c3...</td>\n",
       "    </tr>\n",
       "  </tbody>\n",
       "</table>\n",
       "</div>"
      ],
      "text/plain": [
       "              description     category  amount                  time  \\\n",
       "0  Pet Love*Order10947430  transaction   19990  2018-06-02T12:43:27Z   \n",
       "1           Amazon.Com.Br  transaction     100  2018-05-31T23:01:36Z   \n",
       "2                 Tembici  transaction    2000  2018-05-24T11:35:37Z   \n",
       "3           Ebanx-Spotify  transaction    1690  2018-05-15T14:27:42Z   \n",
       "4  Outback Bz 51 Frei Can  transaction    8937  2018-05-06T22:54:56Z   \n",
       "5      Monte Rei Delivery  transaction     805  2018-05-06T16:01:17Z   \n",
       "6                Dia Loja  transaction    1074  2018-05-06T15:50:40Z   \n",
       "7         Tennessee Saude  transaction    4425  2018-05-06T15:38:36Z   \n",
       "8           Almeida'S Bar  transaction    2700  2018-05-06T00:50:27Z   \n",
       "9        Pag*Tabuleirolua  transaction    1600  2018-05-05T23:23:11Z   \n",
       "\n",
       "          title                                            details  \\\n",
       "0          casa  {'charges': {'count': 3, 'amount': 6663}, 'sub...   \n",
       "1      educação                {'subcategory': 'card_not_present'}   \n",
       "2      serviços                {'subcategory': 'card_not_present'}   \n",
       "3        outros  {'lat': -23.5807334, 'lon': -46.684984, 'subca...   \n",
       "4   restaurante  {'lat': -23.5544201, 'lon': -46.6522945, 'subc...   \n",
       "5   restaurante  {'lat': -23.6172183, 'lon': -46.6341538, 'subc...   \n",
       "6  supermercado  {'lat': -23.6172484, 'lon': -46.6341649, 'subc...   \n",
       "7  supermercado  {'lat': -23.6174069, 'lon': -46.6343829, 'subc...   \n",
       "8   restaurante  {'lat': -23.6174186, 'lon': -46.6342297, 'subc...   \n",
       "9   restaurante  {'lat': -23.5339943, 'lon': -46.6533928, 'subc...   \n",
       "\n",
       "                                     id  \\\n",
       "0  5b1290ef-27dc-4d61-bf99-d2853e09933c   \n",
       "1  5b107ed0-1afa-4efe-afd4-cf8ef75c0abd   \n",
       "2  5b06a38a-be23-421b-a01e-eab063d290f9   \n",
       "3  5afaee5f-4068-40f7-a7e7-6df587c66ec6   \n",
       "4  5aef87c0-1cad-4c94-a0e5-bc2c13123e8e   \n",
       "5  5aef26ce-d9fd-4f54-a680-75d62e9f451b   \n",
       "6  5aef2451-0003-4263-8026-b3a9276f898f   \n",
       "7  5aef217c-fdf0-494a-b05b-f906ad812e47   \n",
       "8  5aee5154-9f6a-4138-8a55-8f6adeb3f53f   \n",
       "9  5aee3ce0-cefe-4d11-b035-c3ba65f9d788   \n",
       "\n",
       "                                              _links  \\\n",
       "0  {'self': {'href': 'https://prod-s0-feed.nubank...   \n",
       "1  {'self': {'href': 'https://prod-s0-feed.nubank...   \n",
       "2  {'self': {'href': 'https://prod-s0-feed.nubank...   \n",
       "3  {'self': {'href': 'https://prod-s0-feed.nubank...   \n",
       "4  {'self': {'href': 'https://prod-s0-feed.nubank...   \n",
       "5  {'self': {'href': 'https://prod-s0-feed.nubank...   \n",
       "6  {'self': {'href': 'https://prod-s0-feed.nubank...   \n",
       "7  {'self': {'href': 'https://prod-s0-feed.nubank...   \n",
       "8  {'self': {'href': 'https://prod-s0-feed.nubank...   \n",
       "9  {'self': {'href': 'https://prod-s0-feed.nubank...   \n",
       "\n",
       "                                                href  \n",
       "0  nuapp://transaction/5b1290ef-27dc-4d61-bf99-d2...  \n",
       "1  nuapp://transaction/5b107ed0-1afa-4efe-afd4-cf...  \n",
       "2  nuapp://transaction/5b06a38a-be23-421b-a01e-ea...  \n",
       "3  nuapp://transaction/5afaee5f-4068-40f7-a7e7-6d...  \n",
       "4  nuapp://transaction/5aef87c0-1cad-4c94-a0e5-bc...  \n",
       "5  nuapp://transaction/5aef26ce-d9fd-4f54-a680-75...  \n",
       "6  nuapp://transaction/5aef2451-0003-4263-8026-b3...  \n",
       "7  nuapp://transaction/5aef217c-fdf0-494a-b05b-f9...  \n",
       "8  nuapp://transaction/5aee5154-9f6a-4138-8a55-8f...  \n",
       "9  nuapp://transaction/5aee3ce0-cefe-4d11-b035-c3...  "
      ]
     },
     "execution_count": 28,
     "metadata": {},
     "output_type": "execute_result"
    }
   ],
   "source": [
    "df = pd.read_csv('../{}/card_transactions.csv'.format(PROCESSED_DATA_DIR))\n",
    "df.head(10)"
   ]
  },
  {
   "cell_type": "markdown",
   "metadata": {},
   "source": [
    "## Dataframe stats"
   ]
  },
  {
   "cell_type": "code",
   "execution_count": 29,
   "metadata": {
    "scrolled": false
   },
   "outputs": [
    {
     "data": {
      "text/plain": [
       "(499, 9)"
      ]
     },
     "execution_count": 29,
     "metadata": {},
     "output_type": "execute_result"
    }
   ],
   "source": [
    "df.shape"
   ]
  },
  {
   "cell_type": "code",
   "execution_count": 30,
   "metadata": {},
   "outputs": [
    {
     "data": {
      "text/plain": [
       "description    object\n",
       "category       object\n",
       "amount          int64\n",
       "time           object\n",
       "title          object\n",
       "details        object\n",
       "id             object\n",
       "_links         object\n",
       "href           object\n",
       "dtype: object"
      ]
     },
     "execution_count": 30,
     "metadata": {},
     "output_type": "execute_result"
    }
   ],
   "source": [
    "df.dtypes"
   ]
  },
  {
   "cell_type": "code",
   "execution_count": 31,
   "metadata": {},
   "outputs": [
    {
     "name": "stdout",
     "output_type": "stream",
     "text": [
      "<class 'pandas.core.frame.DataFrame'>\n",
      "RangeIndex: 499 entries, 0 to 498\n",
      "Data columns (total 9 columns):\n",
      "description    499 non-null object\n",
      "category       499 non-null object\n",
      "amount         499 non-null int64\n",
      "time           499 non-null object\n",
      "title          499 non-null object\n",
      "details        499 non-null object\n",
      "id             499 non-null object\n",
      "_links         499 non-null object\n",
      "href           499 non-null object\n",
      "dtypes: int64(1), object(8)\n",
      "memory usage: 35.2+ KB\n"
     ]
    }
   ],
   "source": [
    "df.info()"
   ]
  },
  {
   "cell_type": "markdown",
   "metadata": {},
   "source": [
    "**Check if we have any duplicated data:**"
   ]
  },
  {
   "cell_type": "code",
   "execution_count": 32,
   "metadata": {},
   "outputs": [
    {
     "data": {
      "text/plain": [
       "False    499\n",
       "dtype: int64"
      ]
     },
     "execution_count": 32,
     "metadata": {},
     "output_type": "execute_result"
    }
   ],
   "source": [
    "df.duplicated().value_counts()"
   ]
  },
  {
   "cell_type": "markdown",
   "metadata": {},
   "source": [
    "**Converting date column from object into datetime:**"
   ]
  },
  {
   "cell_type": "code",
   "execution_count": 33,
   "metadata": {},
   "outputs": [],
   "source": [
    "df['time'] = pd.to_datetime(df.time)"
   ]
  },
  {
   "cell_type": "markdown",
   "metadata": {},
   "source": [
    "**Converting string column from object into string:**"
   ]
  },
  {
   "cell_type": "code",
   "execution_count": 34,
   "metadata": {},
   "outputs": [],
   "source": [
    "df.columns = df.columns.str.strip().str.lower().str.replace(' ', '_')"
   ]
  },
  {
   "cell_type": "markdown",
   "metadata": {},
   "source": [
    "**Filter out unneeded columns:**"
   ]
  },
  {
   "cell_type": "code",
   "execution_count": 35,
   "metadata": {},
   "outputs": [],
   "source": [
    "columns = ['description', 'category', 'amount', 'time', 'title', 'details', 'id']\n",
    "df = df[columns]"
   ]
  },
  {
   "cell_type": "code",
   "execution_count": 36,
   "metadata": {},
   "outputs": [
    {
     "data": {
      "text/html": [
       "<div>\n",
       "<style scoped>\n",
       "    .dataframe tbody tr th:only-of-type {\n",
       "        vertical-align: middle;\n",
       "    }\n",
       "\n",
       "    .dataframe tbody tr th {\n",
       "        vertical-align: top;\n",
       "    }\n",
       "\n",
       "    .dataframe thead th {\n",
       "        text-align: right;\n",
       "    }\n",
       "</style>\n",
       "<table border=\"1\" class=\"dataframe\">\n",
       "  <thead>\n",
       "    <tr style=\"text-align: right;\">\n",
       "      <th></th>\n",
       "      <th>description</th>\n",
       "      <th>category</th>\n",
       "      <th>amount</th>\n",
       "      <th>time</th>\n",
       "      <th>title</th>\n",
       "      <th>details</th>\n",
       "      <th>id</th>\n",
       "    </tr>\n",
       "  </thead>\n",
       "  <tbody>\n",
       "    <tr>\n",
       "      <th>0</th>\n",
       "      <td>Pet Love*Order10947430</td>\n",
       "      <td>transaction</td>\n",
       "      <td>19990</td>\n",
       "      <td>2018-06-02 12:43:27</td>\n",
       "      <td>casa</td>\n",
       "      <td>{'charges': {'count': 3, 'amount': 6663}, 'sub...</td>\n",
       "      <td>5b1290ef-27dc-4d61-bf99-d2853e09933c</td>\n",
       "    </tr>\n",
       "    <tr>\n",
       "      <th>1</th>\n",
       "      <td>Amazon.Com.Br</td>\n",
       "      <td>transaction</td>\n",
       "      <td>100</td>\n",
       "      <td>2018-05-31 23:01:36</td>\n",
       "      <td>educação</td>\n",
       "      <td>{'subcategory': 'card_not_present'}</td>\n",
       "      <td>5b107ed0-1afa-4efe-afd4-cf8ef75c0abd</td>\n",
       "    </tr>\n",
       "    <tr>\n",
       "      <th>2</th>\n",
       "      <td>Tembici</td>\n",
       "      <td>transaction</td>\n",
       "      <td>2000</td>\n",
       "      <td>2018-05-24 11:35:37</td>\n",
       "      <td>serviços</td>\n",
       "      <td>{'subcategory': 'card_not_present'}</td>\n",
       "      <td>5b06a38a-be23-421b-a01e-eab063d290f9</td>\n",
       "    </tr>\n",
       "    <tr>\n",
       "      <th>3</th>\n",
       "      <td>Ebanx-Spotify</td>\n",
       "      <td>transaction</td>\n",
       "      <td>1690</td>\n",
       "      <td>2018-05-15 14:27:42</td>\n",
       "      <td>outros</td>\n",
       "      <td>{'lat': -23.5807334, 'lon': -46.684984, 'subca...</td>\n",
       "      <td>5afaee5f-4068-40f7-a7e7-6df587c66ec6</td>\n",
       "    </tr>\n",
       "    <tr>\n",
       "      <th>4</th>\n",
       "      <td>Outback Bz 51 Frei Can</td>\n",
       "      <td>transaction</td>\n",
       "      <td>8937</td>\n",
       "      <td>2018-05-06 22:54:56</td>\n",
       "      <td>restaurante</td>\n",
       "      <td>{'lat': -23.5544201, 'lon': -46.6522945, 'subc...</td>\n",
       "      <td>5aef87c0-1cad-4c94-a0e5-bc2c13123e8e</td>\n",
       "    </tr>\n",
       "  </tbody>\n",
       "</table>\n",
       "</div>"
      ],
      "text/plain": [
       "              description     category  amount                time  \\\n",
       "0  Pet Love*Order10947430  transaction   19990 2018-06-02 12:43:27   \n",
       "1           Amazon.Com.Br  transaction     100 2018-05-31 23:01:36   \n",
       "2                 Tembici  transaction    2000 2018-05-24 11:35:37   \n",
       "3           Ebanx-Spotify  transaction    1690 2018-05-15 14:27:42   \n",
       "4  Outback Bz 51 Frei Can  transaction    8937 2018-05-06 22:54:56   \n",
       "\n",
       "         title                                            details  \\\n",
       "0         casa  {'charges': {'count': 3, 'amount': 6663}, 'sub...   \n",
       "1     educação                {'subcategory': 'card_not_present'}   \n",
       "2     serviços                {'subcategory': 'card_not_present'}   \n",
       "3       outros  {'lat': -23.5807334, 'lon': -46.684984, 'subca...   \n",
       "4  restaurante  {'lat': -23.5544201, 'lon': -46.6522945, 'subc...   \n",
       "\n",
       "                                     id  \n",
       "0  5b1290ef-27dc-4d61-bf99-d2853e09933c  \n",
       "1  5b107ed0-1afa-4efe-afd4-cf8ef75c0abd  \n",
       "2  5b06a38a-be23-421b-a01e-eab063d290f9  \n",
       "3  5afaee5f-4068-40f7-a7e7-6df587c66ec6  \n",
       "4  5aef87c0-1cad-4c94-a0e5-bc2c13123e8e  "
      ]
     },
     "execution_count": 36,
     "metadata": {},
     "output_type": "execute_result"
    }
   ],
   "source": [
    "df.head()"
   ]
  },
  {
   "cell_type": "markdown",
   "metadata": {},
   "source": [
    "### Top categories by quantity of transations"
   ]
  },
  {
   "cell_type": "code",
   "execution_count": 37,
   "metadata": {},
   "outputs": [
    {
     "data": {
      "text/plain": [
       "supermercado    193\n",
       "restaurante     155\n",
       "saúde            30\n",
       "vestuário        24\n",
       "outros           20\n",
       "casa             19\n",
       "transporte       17\n",
       "serviços         17\n",
       "educação          8\n",
       "lazer             8\n",
       "eletrônicos       5\n",
       "viagem            3\n",
       "Name: title, dtype: int64"
      ]
     },
     "execution_count": 37,
     "metadata": {},
     "output_type": "execute_result"
    }
   ],
   "source": [
    "top_categories_by_quantity = df['title'].value_counts()\n",
    "top_categories_by_quantity.sort_values(ascending=False)"
   ]
  },
  {
   "cell_type": "code",
   "execution_count": 38,
   "metadata": {},
   "outputs": [
    {
     "data": {
      "text/plain": [
       "<matplotlib.axes._subplots.AxesSubplot at 0x1103972e8>"
      ]
     },
     "execution_count": 38,
     "metadata": {},
     "output_type": "execute_result"
    },
    {
     "data": {
      "image/png": "[encoded data removed]",
      "text/plain": [
       "<Figure size 432x288 with 1 Axes>"
      ]
     },
     "metadata": {},
     "output_type": "display_data"
    }
   ],
   "source": [
    "top_categories_by_quantity.plot(kind = 'bar')"
   ]
  },
  {
   "cell_type": "code",
   "execution_count": 39,
   "metadata": {},
   "outputs": [
    {
     "data": {
      "text/plain": [
       "<matplotlib.axes._subplots.AxesSubplot at 0x10ffcac50>"
      ]
     },
     "execution_count": 39,
     "metadata": {},
     "output_type": "execute_result"
    },
    {
     "data": {
      "image/png": "[encoded data removed]",
      "text/plain": [
       "<Figure size 432x288 with 1 Axes>"
      ]
     },
     "metadata": {},
     "output_type": "display_data"
    }
   ],
   "source": [
    "top_categories_by_quantity.plot(kind = 'pie')"
   ]
  },
  {
   "cell_type": "code",
   "execution_count": 40,
   "metadata": {},
   "outputs": [
    {
     "data": {
      "text/plain": [
       "supermercado    12.0\n",
       "restaurante     11.0\n",
       "saúde           10.0\n",
       "vestuário        9.0\n",
       "outros           8.0\n",
       "casa             7.0\n",
       "serviços         5.5\n",
       "transporte       5.5\n",
       "lazer            3.5\n",
       "educação         3.5\n",
       "eletrônicos      2.0\n",
       "viagem           1.0\n",
       "Name: title, dtype: float64"
      ]
     },
     "execution_count": 40,
     "metadata": {},
     "output_type": "execute_result"
    }
   ],
   "source": [
    "top_categories_by_quantity.rank()"
   ]
  },
  {
   "cell_type": "markdown",
   "metadata": {},
   "source": [
    "### Top categories by amount of transations"
   ]
  },
  {
   "cell_type": "code",
   "execution_count": 41,
   "metadata": {},
   "outputs": [
    {
     "data": {
      "text/plain": [
       "title\n",
       "supermercado    193\n",
       "restaurante     155\n",
       "saúde            30\n",
       "vestuário        24\n",
       "outros           20\n",
       "casa             19\n",
       "transporte       17\n",
       "serviços         17\n",
       "lazer             8\n",
       "educação          8\n",
       "eletrônicos       5\n",
       "viagem            3\n",
       "Name: amount, dtype: int64"
      ]
     },
     "execution_count": 41,
     "metadata": {},
     "output_type": "execute_result"
    }
   ],
   "source": [
    "top_categories_by_amount = df.groupby(['title']).count()['amount']\n",
    "top_categories_by_amount.sort_values(ascending=False)"
   ]
  },
  {
   "cell_type": "code",
   "execution_count": 42,
   "metadata": {},
   "outputs": [
    {
     "data": {
      "text/plain": [
       "<matplotlib.axes._subplots.AxesSubplot at 0x10f66fc50>"
      ]
     },
     "execution_count": 42,
     "metadata": {},
     "output_type": "execute_result"
    },
    {
     "data": {
      "image/png": "[encoded data removed]",
      "text/plain": [
       "<Figure size 432x288 with 1 Axes>"
      ]
     },
     "metadata": {},
     "output_type": "display_data"
    }
   ],
   "source": [
    "top_categories_by_amount.plot(kind = 'bar')"
   ]
  },
  {
   "cell_type": "code",
   "execution_count": 43,
   "metadata": {},
   "outputs": [
    {
     "data": {
      "text/plain": [
       "<matplotlib.axes._subplots.AxesSubplot at 0x1100427f0>"
      ]
     },
     "execution_count": 43,
     "metadata": {},
     "output_type": "execute_result"
    },
    {
     "data": {
      "image/png": "[encoded data removed]",
      "text/plain": [
       "<Figure size 432x288 with 1 Axes>"
      ]
     },
     "metadata": {},
     "output_type": "display_data"
    }
   ],
   "source": [
    "top_categories_by_amount.plot(kind = 'pie')"
   ]
  },
  {
   "cell_type": "code",
   "execution_count": 44,
   "metadata": {},
   "outputs": [
    {
     "data": {
      "text/plain": [
       "title\n",
       "casa             7.0\n",
       "educação         3.5\n",
       "eletrônicos      2.0\n",
       "lazer            3.5\n",
       "outros           8.0\n",
       "restaurante     11.0\n",
       "saúde           10.0\n",
       "serviços         5.5\n",
       "supermercado    12.0\n",
       "transporte       5.5\n",
       "vestuário        9.0\n",
       "viagem           1.0\n",
       "Name: amount, dtype: float64"
      ]
     },
     "execution_count": 44,
     "metadata": {},
     "output_type": "execute_result"
    }
   ],
   "source": [
    "top_categories_by_amount.rank()"
   ]
  }
 ],
 "metadata": {
  "kernelspec": {
   "display_name": "Python 3",
   "language": "python",
   "name": "python3"
  },
  "language_info": {
   "codemirror_mode": {
    "name": "ipython",
    "version": 3
   },
   "file_extension": ".py",
   "mimetype": "text/x-python",
   "name": "python",
   "nbconvert_exporter": "python",
   "pygments_lexer": "ipython3",
   "version": "3.6.5"
  }
 },
 "nbformat": 4,
 "nbformat_minor": 2
}
